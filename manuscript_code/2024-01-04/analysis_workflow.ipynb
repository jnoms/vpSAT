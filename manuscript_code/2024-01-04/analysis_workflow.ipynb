{
 "cells": [
  {
   "cell_type": "markdown",
   "metadata": {},
   "source": [
    "# Concatenate all fastas"
   ]
  },
  {
   "cell_type": "code",
   "execution_count": null,
   "metadata": {
    "vscode": {
     "languageId": "shellscript"
    }
   },
   "outputs": [],
   "source": [
    "TOTAL=$(ls ../structures_sequences | wc -l)\n",
    "COUNT=0\n",
    "\n",
    "for FILE in ../structures_sequences/*fasta ; do\n",
    "\n",
    "if [[ $(basename $FILE) != PART* ]] ; then\n",
    "    cat $FILE >> all_full.fasta\n",
    "fi\n",
    "\n",
    "COUNT=$(($COUNT+1))\n",
    "echo \"$COUNT / $TOTAL\"\n",
    "\n",
    "done"
   ]
  },
  {
   "cell_type": "markdown",
   "metadata": {},
   "source": [
    "# MMseqs clustering"
   ]
  },
  {
   "cell_type": "code",
   "execution_count": null,
   "metadata": {
    "vscode": {
     "languageId": "shellscript"
    }
   },
   "outputs": [],
   "source": [
    "mkdir -p seq_cluster\n",
    "mmseqs easy-cluster \\\n",
    "all_full.fasta \\\n",
    "seq_cluster/seq_clusters \\\n",
    "seq_cluster/tmp \\\n",
    "--max-seqs 50000 \\\n",
    "-c 0.7 \\\n",
    "--cov-mode 0 \\\n",
    "--min-seq-id 0.2 \\\n",
    "--cluster-mode 0 \\\n",
    "--threads 5"
   ]
  },
  {
   "cell_type": "markdown",
   "metadata": {},
   "source": [
    "# Foldseek clustering"
   ]
  },
  {
   "cell_type": "code",
   "execution_count": null,
   "metadata": {
    "vscode": {
     "languageId": "shellscript"
    }
   },
   "outputs": [],
   "source": [
    "# Collect representative structures\n",
    "mkdir -p seq_cluster/rep_structures\n",
    "COUNT=0\n",
    "cut -f1 seq_cluster/seq_clusters_cluster.tsv  | sort -u | while read LINE ; do \n",
    "    BASE=$(basename $LINE)\n",
    "\n",
    "    if [[ ! -f seq_cluster/rep_structures/${BASE}.pdb ]] ; then \n",
    "        cp /wynton/group/gladstone/users/jnomburg/projects/viral_structure/structure_symlinks/${BASE}.pdb seq_cluster/rep_structures\n",
    "    fi\n",
    "\n",
    "    COUNT=$(($COUNT+1))\n",
    "    echo $COUNT\n",
    "\n",
    "done\n",
    "\n",
    "# Run foldseek\n",
    "$CODE/vpSAT/bin/foldseek.sh \\\n",
    "-i seq_cluster/rep_structures \\\n",
    "-o foldseek/foldseek_clusters.m8 \\\n",
    "-C foldseek/ignoreme.tsv \\\n",
    "-t 5 \\\n",
    "-v 0.7 \\\n",
    "-c\n",
    "\n",
    "# Filter on TMscore\n",
    "sat.py aln_filter \\\n",
    "-a foldseek/foldseek_clusters.m8 \\\n",
    "-o foldseek/foldseek_clusters_mode0cov0.7_TMscore0.4.filt.m8 \\\n",
    "-f \"query,target,fident,alnlen,qlen,tlen,mismatch,gapopen,qstart,qend,tstart,tend,evalue,bits,alntmscore\" \\\n",
    "-m 0.4 \\\n",
    "-M 1 \\\n",
    "-x alntmscore\n",
    "\n",
    "# Generate a cluster file\n",
    "ls seq_cluster/rep_structures > foldseek/all_inputs.txt\n",
    "\n",
    "sat.py aln_cluster \\\n",
    "-a foldseek/foldseek_clusters_mode0cov0.7_TMscore0.4.filt.m8 \\\n",
    "-o foldseek/foldseek_clusters.tsv \\\n",
    "-A foldseek/all_inputs.txt"
   ]
  },
  {
   "cell_type": "markdown",
   "metadata": {},
   "source": [
    "# Merge structure and sequence cluster files"
   ]
  },
  {
   "cell_type": "code",
   "execution_count": null,
   "metadata": {
    "vscode": {
     "languageId": "shellscript"
    }
   },
   "outputs": [],
   "source": [
    "mkdir -p merged_clusters\n",
    "\n",
    "sat.py aln_expand_clusters \\\n",
    "-c foldseek/foldseek_clusters.tsv \\\n",
    "-s seq_cluster/seq_clusters_cluster.tsv \\\n",
    "-o merged_clusters/merged_clusters.tsv \\\n",
    "-F \"cluster_rep,cluster_member\" \\\n",
    "-f \"cluster_rep,cluster_member\"\n",
    "\n",
    "# Generate counts file. This wasn't really used.\n",
    "sat.py aln_taxa_counts \\\n",
    "-c merged_clusters/merged_clusters.tsv \\\n",
    "-o merged_clusters/merged_clusters.counts.tsv \\\n",
    "-F \"cluster_ID,cluster_rep,subcluster_rep,cluster_member,cluster_count\"\n",
    "\n",
    "# Add taxonomy\n",
    "# This is adapting aln_add_taxonomy, which is deisnged for alignments rather than \n",
    "# cluster files.\n",
    "sat.py aln_add_taxonomy \\\n",
    "-a merged_clusters/merged_clusters.tsv \\\n",
    "-o merged_clusters/merged_clusters.tax.tsv.TEMP \\\n",
    "-f \"cluster_ID,cluster_rep,query,target,cluster_count\"\n",
    "\n",
    "# Reformat the taxonomy columns to general the file clusters file\n",
    "awk 'BEGIN {FS=OFS=\"\\t\"}\n",
    "NR==1 {\n",
    "    for (i=1; i<=NF; i++) {\n",
    "        if ($i == \"query\") { \n",
    "            $i = \"subcluster_rep\"; \n",
    "            col[i]=1; \n",
    "        } else if ($i == \"target\") { \n",
    "            $i = \"cluster_member\"; \n",
    "            col[i]=1; \n",
    "        } else if ($i ~ /^target_/) { \n",
    "            $i = substr($i, 8); \n",
    "            col[i]=1; \n",
    "        } else if ($i ~ /^query_/) { \n",
    "            col[i]=0; \n",
    "        } else { \n",
    "            col[i]=1; \n",
    "        }\n",
    "    }\n",
    "}\n",
    "{\n",
    "    for (i=1; i<=NF; i++) {\n",
    "        if (col[i]) printf \"%s%s\", $i, (i<NF ? OFS : \"\\n\")\n",
    "    }\n",
    "}' merged_clusters/merged_clusters.tax.tsv.TEMP >  merged_clusters/merged_clusters.tax.tsv"
   ]
  },
  {
   "cell_type": "markdown",
   "metadata": {},
   "source": [
    "# Create connection map"
   ]
  },
  {
   "cell_type": "code",
   "execution_count": null,
   "metadata": {
    "vscode": {
     "languageId": "shellscript"
    }
   },
   "outputs": [],
   "source": [
    "# This is just for making the family-family network\n",
    "sat.py aln_connection_map \\\n",
    "-c merged_clusters/merged_clusters.tax.tsv \\\n",
    "-o merged_clusters/connection_map.tsv"
   ]
  },
  {
   "cell_type": "markdown",
   "metadata": {},
   "source": [
    "# Run DALI to compare reps from all 5.7K-ish protein clusters that have more than 1 member"
   ]
  },
  {
   "cell_type": "code",
   "execution_count": null,
   "metadata": {
    "vscode": {
     "languageId": "shellscript"
    }
   },
   "outputs": [],
   "source": [
    "# First collect the structures\n",
    "mkdir -p dali_euk_vs_euk/strucs\n",
    "COUNT=0\n",
    "awk '$5 > 1'  merged_clusters/merged_clusters.tsv | cut -f2 | sort -u | while read LINE ; do\n",
    "    cp seq_cluster/rep_structures/${LINE}.pdb dali_euk_vs_euk/strucs\n",
    "    COUNT=$(($COUNT+1))\n",
    "    echo \"$COUNT\"\n",
    "done\n",
    "\n",
    "# Import to DALI\n",
    "$CODE/vpSAT/bin/dali_format_inputs.sh \\\n",
    "-d dali_euk_vs_euk/strucs \\\n",
    "-o dali_euk_vs_euk/euk_dali_db \\\n",
    "-s dali_euk_vs_euk/euk_dali_key.tsv \\\n",
    "-b ~/phage_dali/phage_structure_key.txt \\\n",
    "-L dali_euk_vs_euk/euk_dali_symlinks\n",
    "\n",
    "# Prepare an SGE array\n",
    "$CODE/vpSAT/bin/prepare_job_array_sge.sh \\\n",
    "-d dali_euk_vs_euk/euk_dali_db \\\n",
    "-J dali_euk_vs_euk/dali_lists \\\n",
    "-N 1"
   ]
  },
  {
   "cell_type": "code",
   "execution_count": null,
   "metadata": {
    "vscode": {
     "languageId": "shellscript"
    }
   },
   "outputs": [],
   "source": [
    "# Running the array in an SGE submission\n",
    "LIST=$(sed \"${SGE_TASK_ID}q;d\" dali_euk_vs_euk/dali_lists_lists/sublist_list.txt)\n",
    "\n",
    "TEMP=${SGE_TASK_ID}__$RANDOM\n",
    "\n",
    "echo \"Copying over queries...\"\n",
    "cat $LIST | while read LINE ; do\n",
    "    FILE=dali_euk_vs_euk/euk_dali_db/$LINE\n",
    "    mkdir -p $TEMP\n",
    "    mkdir $TEMP/query\n",
    "    cp $FILE $TEMP/query\n",
    "done\n",
    "\n",
    "cd $TEMP\n",
    "\n",
    "# Make a copy of the full db here \n",
    "echo \"Copying over the target directory\"\n",
    "cp -r path/to/db target\n",
    "\n",
    "# Copy the query(s) to the target db so I can get qlen\n",
    "# NOTE - this isn't necessary for this particular search, bc it's already all-by-all\n",
    "echo \"Copying the query to the target dir too\"\n",
    "cp query/* target\n",
    "\n",
    "echo \"running the search\"\n",
    "$CODE/vpSAT/bin/dali.sh \\\n",
    "-q query \\\n",
    "-t target \\\n",
    "-o path_to/euk_dali_result \\\n",
    "-n 5\n",
    "\n",
    "cd ..\n",
    "\n",
    "rm -r $TEMP"
   ]
  },
  {
   "cell_type": "code",
   "execution_count": null,
   "metadata": {
    "vscode": {
     "languageId": "shellscript"
    }
   },
   "outputs": [],
   "source": [
    "# Parsing the DALI results\n",
    "IN_DIR=path_to/euk_dali_result\n",
    "OUT_DIR=path_to/euk_dali_parsed\n",
    "\n",
    "for FILE in $IN_DIR/* ; do\n",
    "\n",
    "sat.py aln_parse_dali \\\n",
    "-a $FILE \\\n",
    "-o ${OUT_DIR}/$(basename ${FILE%.txt}).m8 \\\n",
    "-s dali_euk_vs_euk/euk_dali_key.tsv\n",
    "\n",
    "done"
   ]
  },
  {
   "cell_type": "code",
   "execution_count": null,
   "metadata": {
    "vscode": {
     "languageId": "shellscript"
    }
   },
   "outputs": [],
   "source": [
    "# Filter: Remove self alignments, filter for Z >= alnlen/10 -4, alnlen > 120\n",
    "awk -F '\\t' 'NR==1 || ($11 >= ($5/10) - 4)'  dali_euk_vs_euk.m8 | awk '$1 != $2' | awk '$5 >= 120' > dali_euk_vs_euk.filt.m8"
   ]
  },
  {
   "cell_type": "markdown",
   "metadata": {},
   "source": [
    "# Running InterProScan on all sequences"
   ]
  },
  {
   "cell_type": "code",
   "execution_count": null,
   "metadata": {
    "vscode": {
     "languageId": "shellscript"
    }
   },
   "outputs": [],
   "source": [
    "for FILE in pasth/to/structures_sequences/*fasta ; do\n",
    "\n",
    "    cat $FILE >> all.fasta\n",
    "\n",
    "done\n",
    "\n",
    "FASTA=all.fasta\n",
    "\n",
    "interproscan.sh \\\n",
    "-i $FASTA \\\n",
    "-f tsv \\\n",
    "-appl TIGRFAM,Pfam,CDD \\\n",
    "-o interproscan_PFAM_TIGRFAM_CDD.tsv"
   ]
  },
  {
   "cell_type": "markdown",
   "metadata": {},
   "source": [
    "# Running DALI to determine cluster purity"
   ]
  },
  {
   "cell_type": "markdown",
   "metadata": {},
   "source": [
    "Copying and organizing the structures"
   ]
  },
  {
   "cell_type": "code",
   "execution_count": null,
   "metadata": {
    "vscode": {
     "languageId": "shellscript"
    }
   },
   "outputs": [],
   "source": [
    "STRUCS=path/to/my/structures\n",
    "\n",
    "COUNT=0\n",
    "\n",
    "awk '$5 >= 100' merged_clusters.tax.tsv | awk '$1 != \"cluster_ID\"' | while read LINE ; do\n",
    "\n",
    "CLUSTER_ID=$(echo $LINE | awk '{print $1}')\n",
    "CLUSTER_REP=$(echo $LINE | awk '{print $2}')\n",
    "CLUSTER_MEMBER=$(echo $LINE | awk '{print $4}')\n",
    "\n",
    "mkdir -p clusters/cluster_${CLUSTER_ID}/{structures,rep_structure}\n",
    "\n",
    "# Copy the rep if necessary\n",
    "if [[ ! -f clusters/cluster_${CLUSTER_ID}/rep_structure/${CLUSTER_REP}.pdb ]] ; then\n",
    "    cp $STRUCS/${CLUSTER_REP}.pdb clusters/cluster_${CLUSTER_ID}/rep_structure/\n",
    "fi\n",
    "\n",
    "if [[ $CLUSTER_REP == $CLUSTER_MEMBER ]] ; then\n",
    "    continue\n",
    "fi\n",
    "\n",
    "# Copy the members\n",
    "if [[ ! -f clusters/cluster_${CLUSTER_ID}/structures/${CLUSTER_MEMBER}.pdb ]] ; then\n",
    "    cp $STRUCS/${CLUSTER_MEMBER}.pdb clusters/cluster_${CLUSTER_ID}/structures\n",
    "fi\n",
    "\n",
    "COUNT=$(($COUNT+1))\n",
    "echo $COUNT\n",
    "\n",
    "done"
   ]
  },
  {
   "cell_type": "markdown",
   "metadata": {},
   "source": [
    "SGE Array to run the searches"
   ]
  },
  {
   "cell_type": "code",
   "execution_count": null,
   "metadata": {
    "vscode": {
     "languageId": "shellscript"
    }
   },
   "outputs": [],
   "source": [
    "#!/bin/bash\n",
    "#$ -S /bin/bash\n",
    "#$ -o ./\n",
    "#$ -e ./\n",
    "#$ -cwd\n",
    "#$ -r y\n",
    "#$ -j y\n",
    "#$ -l mem_free=10G\n",
    "#$ -l scratch=10G\n",
    "#$ -l h_rt=2:00:00\n",
    "#$ -t 1-57\n",
    "\n",
    "CLUSTER_DIR=clusters/cluster_${SGE_TASK_ID}\n",
    "\n",
    "cd $CLUSTER_DIR\n",
    "\n",
    "# Make the databases\n",
    "echo \"Making the structures database\"\n",
    "$CODE/vpSAT/bin/dali_format_inputs.sh \\\n",
    "-d structures \\\n",
    "-o structure_db \\\n",
    "-s structures_key_NOREP.txt \\\n",
    "-L structures_symlink\n",
    "\n",
    "echo \"Making the rep database\"\n",
    "$CODE/vpSAT/bin/dali_format_inputs.sh \\\n",
    "-d rep_structure \\\n",
    "-o rep_structure_db \\\n",
    "-s structures_key_REP_ONLY.txt \\\n",
    "-L rep_structure_db_symlink \\\n",
    "-b structures_key_NOREP.txt\n",
    "\n",
    "# The final key\n",
    "echo \"Merging the key\"\n",
    "cat structures_key*txt > structures_key.txt\n",
    "\n",
    "# Run DALI\n",
    "echo \"Running DALI\"\n",
    "$CODE/vpSAT/bin/dali.sh \\\n",
    "-q rep_structure_db \\\n",
    "-t structure_db \\\n",
    "-o dali_result\n",
    "\n",
    "# Parse DALI\n",
    "echo \"Parsing the dali result\"\n",
    "conda activate SAT\n",
    "for FILE in dali_result/*txt ; do\n",
    "sat.py aln_parse_dali \\\n",
    "-a $FILE \\\n",
    "-s structures_key.txt \\\n",
    "-o cluster_${SGE_TASK_ID}_result.m8\n",
    "done"
   ]
  },
  {
   "cell_type": "code",
   "execution_count": null,
   "metadata": {
    "vscode": {
     "languageId": "shellscript"
    }
   },
   "outputs": [],
   "source": [
    "# Collect results\n",
    "cat clusters/*/*m8 > dali_cluster_purity.m8"
   ]
  },
  {
   "cell_type": "markdown",
   "metadata": {},
   "source": [
    "# Aligning Virus protein cluster representatives against the 2.3M AFDB cluster representatives"
   ]
  },
  {
   "cell_type": "markdown",
   "metadata": {},
   "source": [
    "## Downloading the reps"
   ]
  },
  {
   "cell_type": "markdown",
   "metadata": {},
   "source": [
    "Python script for the download"
   ]
  },
  {
   "cell_type": "code",
   "execution_count": null,
   "metadata": {},
   "outputs": [],
   "source": [
    "import csv\n",
    "import json\n",
    "import os\n",
    "import sys\n",
    "from urllib.request import urlopen, HTTPError\n",
    "from concurrent.futures import ThreadPoolExecutor\n",
    "\n",
    "def download_af_pdb(accession, outdir):\n",
    "    url = f\"https://alphafold.ebi.ac.uk/api/prediction/{accession}\"\n",
    "    try:\n",
    "        with urlopen(url) as res:\n",
    "            payload = res.read().decode(\"utf-8\")\n",
    "            obj = json.loads(payload)\n",
    "            pdb_url = obj[0][\"pdbUrl\"]\n",
    "    except HTTPError as e:\n",
    "        if e.code == 404:\n",
    "            sys.stderr.write(f\"Accession {accession} not found, skipping...\\n\")\n",
    "            return\n",
    "        else:\n",
    "            raise  # Re-raise the exception for other HTTP errors\n",
    "        \n",
    "    filename = os.path.basename(pdb_url)\n",
    "    filepath = os.path.join(outdir, filename)\n",
    "\n",
    "    # Only download if the file does not exist\n",
    "    if not os.path.exists(filepath):\n",
    "        with open(filepath, \"wb\") as fh, urlopen(pdb_url) as res:\n",
    "            for chunk in res:\n",
    "                fh.write(chunk)\n",
    "\n",
    "def main():\n",
    "    if len(sys.argv) != 3:\n",
    "        sys.stderr.write(\"Usage: python download_af_pdb_from_tsv.py input.tsv outdir\\n\")\n",
    "        sys.exit(1)\n",
    "\n",
    "    input_tsv = sys.argv[1]\n",
    "    outdir = sys.argv[2]\n",
    "\n",
    "    # Ensure output directory exists\n",
    "    if not os.path.exists(outdir):\n",
    "        os.makedirs(outdir)\n",
    "\n",
    "    # Read existing filenames in the output directory\n",
    "    existing_files = set(os.listdir(outdir))\n",
    "\n",
    "    with ThreadPoolExecutor() as executor, open(input_tsv, 'r') as tsv_file:\n",
    "        reader = csv.reader(tsv_file, delimiter='\\t')\n",
    "        next(reader)  # Skip the header row if present\n",
    "\n",
    "        # Filter out accessions that have already been downloaded\n",
    "        tasks = []\n",
    "        for row in reader:\n",
    "            accession = row[0]\n",
    "            filename = f\"{accession}.pdb\"  # Assuming the files are saved as '<accession>.pdb'\n",
    "            if filename not in existing_files:\n",
    "                task = executor.submit(download_af_pdb, accession, outdir)\n",
    "                tasks.append(task)\n",
    "\n",
    "        # Wait for all futures to complete\n",
    "        for future in tasks:\n",
    "            future.result()\n",
    "            \n",
    "if __name__ == \"__main__\":\n",
    "    main()"
   ]
  },
  {
   "cell_type": "markdown",
   "metadata": {},
   "source": [
    "Download using 2-repId_isDark_nMem_repLen_avgLen_repPlddt_avgPlddt_LCAtaxId.tsv.gz from https://afdb-cluster.steineggerlab.workers.dev/"
   ]
  },
  {
   "cell_type": "code",
   "execution_count": null,
   "metadata": {
    "vscode": {
     "languageId": "shellscript"
    }
   },
   "outputs": [],
   "source": [
    "python3 download_reps.py 2-repId_isDark_nMem_repLen_avgLen_repPlddt_avgPlddt_LCAtaxId.tsv reps"
   ]
  },
  {
   "cell_type": "markdown",
   "metadata": {},
   "source": [
    "## Running the search"
   ]
  },
  {
   "cell_type": "markdown",
   "metadata": {},
   "source": [
    "Make foldseek database"
   ]
  },
  {
   "cell_type": "code",
   "execution_count": null,
   "metadata": {
    "vscode": {
     "languageId": "shellscript"
    }
   },
   "outputs": [],
   "source": [
    "#!/bin/bash\n",
    "#$ -S /bin/bash\n",
    "#$ -o ./\n",
    "#$ -e ./\n",
    "#$ -cwd\n",
    "#$ -r y\n",
    "#$ -j y\n",
    "#$ -l mem_free=7G\n",
    "#$ -l scratch=10G\n",
    "#$ -l h_rt=40:00:00\n",
    "#$ -pe smp 8\n",
    "\n",
    "conda activate vpSAT\n",
    "\n",
    "STRUCS=reps\n",
    "DB_DIR=db\n",
    "\n",
    "foldseek createdb $STRUCS ${DB_DIR}/AF2db_reps_db --threads 8"
   ]
  },
  {
   "cell_type": "markdown",
   "metadata": {},
   "source": [
    "Doing the alignment"
   ]
  },
  {
   "cell_type": "code",
   "execution_count": null,
   "metadata": {
    "vscode": {
     "languageId": "shellscript"
    }
   },
   "outputs": [],
   "source": [
    "#!/bin/bash\n",
    "#$ -S /bin/bash\n",
    "#$ -o ./\n",
    "#$ -e ./\n",
    "#$ -cwd\n",
    "#$ -r y\n",
    "#$ -j y\n",
    "#$ -l mem_free=7G\n",
    "#$ -l scratch=10G\n",
    "#$ -l h_rt=40:00:00\n",
    "#$ -pe smp 8\n",
    "\n",
    "conda activate vpSAT\n",
    "\n",
    "STRUCS=/path/to/virus/cluster_reps/strucs\n",
    "DB=path/to/db/AF2db_reps_db\n",
    "\n",
    "$CODE/vpSAT/bin/foldseek.sh \\\n",
    "-i $STRUCS \\\n",
    "-o vir_protein_reps_vs_AF2_reps.m8 \\\n",
    "-d $DB \\\n",
    "-t 8 "
   ]
  },
  {
   "cell_type": "markdown",
   "metadata": {},
   "source": [
    "Filter on TMscore"
   ]
  },
  {
   "cell_type": "code",
   "execution_count": null,
   "metadata": {
    "vscode": {
     "languageId": "shellscript"
    }
   },
   "outputs": [],
   "source": [
    "# TMscore filtering\n",
    "sat.py aln_filter \\\n",
    "-a vir_protein_reps_vs_AF2_reps.m8 \\\n",
    "-o vir_protein_reps_vs_AF2_reps.TMscorefilt.m8 \\\n",
    "-f 'query,target,fident,alnlen,qlen,tlen,mismatch,gapopen,qstart,qend,tstart,tend,evalue,bits,alntmscore'"
   ]
  }
 ],
 "metadata": {
  "language_info": {
   "name": "python"
  }
 },
 "nbformat": 4,
 "nbformat_minor": 2
}
