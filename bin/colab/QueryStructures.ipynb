{
  "cells": [
    {
      "cell_type": "markdown",
      "metadata": {
        "id": "view-in-github",
        "colab_type": "text"
      },
      "source": [
        "<a href=\"https://colab.research.google.com/github/jnoms/vpSAT/blob/main/bin/colab/QueryStructures.ipynb\" target=\"_parent\"><img src=\"https://colab.research.google.com/assets/colab-badge.svg\" alt=\"Open In Colab\"/></a>"
      ]
    },
    {
      "cell_type": "markdown",
      "metadata": {
        "id": "d-6ChvDD_ahb"
      },
      "source": [
        "# **Foldseek Viral Structure Alignment**\n",
        "The aim of this notebook is to enable users to use Foldseek to conduct structural searches against the database of predicted viral structures established by Nomburg et al., \"*Birth of new protein folds and functions in the virome*\".\n"
      ]
    },
    {
      "cell_type": "markdown",
      "metadata": {
        "id": "Hyl_DFdODb_T"
      },
      "source": [
        "# **Directions**\n",
        "\n",
        "This notebook is split into individual steps to enable searching of one or more structure (.pdb) files against the viral structure database. If you do not have a structure, we recommend you predict one based using the publically available Colabfold notebook (https://github.com/sokrypton/ColabFold).  \n",
        "\n",
        "## Quick start\n",
        "1. Specify search parameters in section 2. The defaults are sensible, so this is optional.\n",
        "2. In the toolbar above, select Runtime --> Run all\n",
        "3. In section 3, upload a PDB file or a zip file containing multiple PDB files.\n",
        "4. Your results will appear in subsequent cells.\n",
        "\n",
        "\n",
        "## More details:\n",
        "* To run additional searches, simply select Runtime --> Run all again to prompt a new upload in section 3.\n",
        "* In section 5, there are two output tables.\n",
        " * The first table shows information on the protein clusters to which your hits reside - this will tell you, for example, how many hits belong to each protein cluster. You can then investigate all cluster members in section 7 using the cluster_ID.\n",
        " * The second table simply displays all hits, along with their cluster_ID and all associated output fields.\n",
        "* Executing section 6 prompts a download of the foldseek results file."
      ]
    },
    {
      "cell_type": "markdown",
      "metadata": {
        "id": "p9b9LpqgARpq"
      },
      "source": [
        "##**1. Setup**\n",
        "\n",
        "This step downloads required files and packages, including Foldseek, that are necessary to search across the database for viral structures of interest against the query input."
      ]
    },
    {
      "cell_type": "code",
      "execution_count": null,
      "metadata": {
        "cellView": "form",
        "id": "X9Z8jW0nKo3X",
        "colab": {
          "base_uri": "https://localhost:8080/"
        },
        "outputId": "6541c45a-4ba2-4731-b393-850d644a043a"
      },
      "outputs": [
        {
          "output_type": "stream",
          "name": "stdout",
          "text": [
            "\n",
            "Foldseek is already downloaded.\n",
            "\n",
            "Target database is already downloaded.\n",
            "\n",
            "Structures file downloaded successfully\n",
            "\n",
            "Setup completed\n"
          ]
        }
      ],
      "source": [
        "# @title\n",
        "\n",
        "from google.colab import files\n",
        "import subprocess\n",
        "import zipfile\n",
        "import os\n",
        "import io\n",
        "import ipywidgets as widgets\n",
        "import pandas as pd\n",
        "from ipywidgets import Layout\n",
        "\n",
        "# Check if Foldseek is already downloaded\n",
        "if not os.path.exists('./foldseek-linux-avx2.tar.gz'):\n",
        "\n",
        "    #Silencing main output\n",
        "    import sys\n",
        "    old_stdout = sys.stdout\n",
        "    sys.stdout = io.StringIO()\n",
        "\n",
        "    #Download Foldseek\n",
        "    !wget https://github.com/steineggerlab/foldseek/releases/download/8-ef4e960/foldseek-linux-avx2.tar.gz ; tar xvzf foldseek-linux-avx2.tar.gz\n",
        "\n",
        "    sys.stdout = old_stdout\n",
        "    print(\"\\nFoldseek downloaded successfully\")\n",
        "else:\n",
        "    print(\"\\nFoldseek is already downloaded.\")\n",
        "\n",
        "# Check if the target directory is already downloaded\n",
        "target_directory = '/content/target_extracted_folder/'\n",
        "if not os.path.exists(target_directory):\n",
        "\n",
        "    #Silencing main output\n",
        "    import sys\n",
        "    old_stdout = sys.stdout\n",
        "    sys.stdout = io.StringIO()\n",
        "\n",
        "    !wget https://zenodo.org/records/10685505/files/structure_foldseek_database_2023-11-27.zip?download=1\n",
        "\n",
        "    # Filename of the zip file\n",
        "    target_zip_file = '/content/structure_foldseek_database_2023-11-27.zip?download=1'\n",
        "\n",
        "    # Directory to extract the contents\n",
        "    target_extract_dir = '/content/target_extracted_folder/'\n",
        "\n",
        "    # Create the extraction directory if it doesn't exist\n",
        "    os.makedirs(target_extract_dir, exist_ok=True)\n",
        "\n",
        "    # Open the zip file\n",
        "    with zipfile.ZipFile(target_zip_file, 'r') as zip_ref:\n",
        "        # Extract all the contents to the extraction directory\n",
        "        zip_ref.extractall(target_extract_dir)\n",
        "\n",
        "    # List the extracted files\n",
        "    target_extracted_files = os.listdir(target_extract_dir)\n",
        "\n",
        "    # Get the target_file_path\n",
        "    target_file_path = target_extract_dir + target_extracted_files[0]+'/db'\n",
        "    sys.stdout = old_stdout\n",
        "\n",
        "    print(\"\\nTarget database downloaded successfully\")\n",
        "else:\n",
        "    print(\"\\nTarget database is already downloaded.\")\n",
        "\n",
        "\n",
        "\n",
        "# Check if the structure file is in the directory. If not, download it\n",
        "file_path = 'media-1.xlsx?download=true.1'\n",
        "\n",
        "if os.path.isfile(file_path):\n",
        "    print('\\nStructures file is already downloaded')\n",
        "else:\n",
        "    old_stdout = sys.stdout\n",
        "    sys.stdout = io.StringIO()\n",
        "    !wget https://www.biorxiv.org/content/biorxiv/early/2024/01/23/2024.01.22.576744/DC1/embed/media-1.xlsx?download=true\n",
        "    sys.stdout = old_stdout\n",
        "    print(\"\\nStructures file downloaded successfully\")\n",
        "\n",
        "#read in the structures file\n",
        "structure_df = pd.read_excel('media-1.xlsx?download=true')\n",
        "\n",
        "print(\"\\nSetup completed\")\n",
        "\n"
      ]
    },
    {
      "cell_type": "markdown",
      "metadata": {
        "id": "cR64IB0m8lLO"
      },
      "source": [
        "## **2. User Parameters**\n",
        "\n",
        "*Input the desired parameters below:*\n",
        "\n",
        "**Coverage** - Display the matches above this threshold of alignment/residue coverage—higher coverage value results in wider range of alignments (default: 0, meaning no coverage restriction)\n",
        "\n",
        "**Coverage Mode** -\n",
        "> 0 = Coverage of **both** *query and target*\n",
        "\n",
        ">1 = Coverage of **only** *target*\n",
        "\n",
        ">2 = Coverage of **only** *query*\n",
        "\n",
        "**E-value** - Sensitivity value, higher e-value produces more distant structures (Range: 0-infinity)\n",
        "\n",
        "**Output Format** - Indicate the desired output fields. Consult the Foldseek readme for more information: https://github.com/steineggerlab/foldseek?tab=readme-ov-file#output-search\n",
        "\n",
        "(Default: query, target, fident, alnlen, mismatch, gapopen, qstart, qend, tstart, tend, evalue, bits, rmsd, prob, alntmscore)\n",
        "\n",
        "**File Output** - This is the type of output file produced. The default is tabular, which lists alignments with the indiciated output format. The alternative is HTML, which will produce an interactive HTML file with all alignments. Note that if there are many targets, the HTML will be large and unweildy.  "
      ]
    },
    {
      "cell_type": "code",
      "execution_count": null,
      "metadata": {
        "cellView": "form",
        "id": "X_ZnVCSHPEPq"
      },
      "outputs": [],
      "source": [
        "\n",
        "# Create parameters for user input with default values\n",
        "coverage = 0 #@param {type:\"number\"}\n",
        "coverage_mode = 0 #@param {type:\"integer\"}\n",
        "e = 10 #@param {type:\"number\"}\n",
        "format_output = 'query,target,fident,alnlen,mismatch,gapopen,qstart,qend,tstart,tend,evalue,bits,rmsd,prob,alntmscore' #@param {type:\"string\"}\n",
        "file_output = \"HTML\" #@param [\"tabular\", \"HTML\"]\n"
      ]
    },
    {
      "cell_type": "markdown",
      "metadata": {
        "id": "h3OECQfW_dGL"
      },
      "source": [
        "### **3. Upload File Below**\n",
        "\n",
        "Upload either a single .pdb file or a zip file of .pdb files below:\n",
        "\n",
        "(Upload file widget will appear after pressing *Run All*)"
      ]
    },
    {
      "cell_type": "code",
      "execution_count": null,
      "metadata": {
        "cellView": "form",
        "id": "omDxcN_1vjNF",
        "colab": {
          "base_uri": "https://localhost:8080/",
          "height": 129
        },
        "outputId": "1dd67098-9ff6-46c8-ac7e-0dd2d3044174"
      },
      "outputs": [
        {
          "output_type": "display_data",
          "data": {
            "text/plain": [
              "<IPython.core.display.HTML object>"
            ],
            "text/html": [
              "\n",
              "     <input type=\"file\" id=\"files-9c541355-19cc-4076-8b56-023653e0b089\" name=\"files[]\" multiple disabled\n",
              "        style=\"border:none\" />\n",
              "     <output id=\"result-9c541355-19cc-4076-8b56-023653e0b089\">\n",
              "      Upload widget is only available when the cell has been executed in the\n",
              "      current browser session. Please rerun this cell to enable.\n",
              "      </output>\n",
              "      <script>// Copyright 2017 Google LLC\n",
              "//\n",
              "// Licensed under the Apache License, Version 2.0 (the \"License\");\n",
              "// you may not use this file except in compliance with the License.\n",
              "// You may obtain a copy of the License at\n",
              "//\n",
              "//      http://www.apache.org/licenses/LICENSE-2.0\n",
              "//\n",
              "// Unless required by applicable law or agreed to in writing, software\n",
              "// distributed under the License is distributed on an \"AS IS\" BASIS,\n",
              "// WITHOUT WARRANTIES OR CONDITIONS OF ANY KIND, either express or implied.\n",
              "// See the License for the specific language governing permissions and\n",
              "// limitations under the License.\n",
              "\n",
              "/**\n",
              " * @fileoverview Helpers for google.colab Python module.\n",
              " */\n",
              "(function(scope) {\n",
              "function span(text, styleAttributes = {}) {\n",
              "  const element = document.createElement('span');\n",
              "  element.textContent = text;\n",
              "  for (const key of Object.keys(styleAttributes)) {\n",
              "    element.style[key] = styleAttributes[key];\n",
              "  }\n",
              "  return element;\n",
              "}\n",
              "\n",
              "// Max number of bytes which will be uploaded at a time.\n",
              "const MAX_PAYLOAD_SIZE = 100 * 1024;\n",
              "\n",
              "function _uploadFiles(inputId, outputId) {\n",
              "  const steps = uploadFilesStep(inputId, outputId);\n",
              "  const outputElement = document.getElementById(outputId);\n",
              "  // Cache steps on the outputElement to make it available for the next call\n",
              "  // to uploadFilesContinue from Python.\n",
              "  outputElement.steps = steps;\n",
              "\n",
              "  return _uploadFilesContinue(outputId);\n",
              "}\n",
              "\n",
              "// This is roughly an async generator (not supported in the browser yet),\n",
              "// where there are multiple asynchronous steps and the Python side is going\n",
              "// to poll for completion of each step.\n",
              "// This uses a Promise to block the python side on completion of each step,\n",
              "// then passes the result of the previous step as the input to the next step.\n",
              "function _uploadFilesContinue(outputId) {\n",
              "  const outputElement = document.getElementById(outputId);\n",
              "  const steps = outputElement.steps;\n",
              "\n",
              "  const next = steps.next(outputElement.lastPromiseValue);\n",
              "  return Promise.resolve(next.value.promise).then((value) => {\n",
              "    // Cache the last promise value to make it available to the next\n",
              "    // step of the generator.\n",
              "    outputElement.lastPromiseValue = value;\n",
              "    return next.value.response;\n",
              "  });\n",
              "}\n",
              "\n",
              "/**\n",
              " * Generator function which is called between each async step of the upload\n",
              " * process.\n",
              " * @param {string} inputId Element ID of the input file picker element.\n",
              " * @param {string} outputId Element ID of the output display.\n",
              " * @return {!Iterable<!Object>} Iterable of next steps.\n",
              " */\n",
              "function* uploadFilesStep(inputId, outputId) {\n",
              "  const inputElement = document.getElementById(inputId);\n",
              "  inputElement.disabled = false;\n",
              "\n",
              "  const outputElement = document.getElementById(outputId);\n",
              "  outputElement.innerHTML = '';\n",
              "\n",
              "  const pickedPromise = new Promise((resolve) => {\n",
              "    inputElement.addEventListener('change', (e) => {\n",
              "      resolve(e.target.files);\n",
              "    });\n",
              "  });\n",
              "\n",
              "  const cancel = document.createElement('button');\n",
              "  inputElement.parentElement.appendChild(cancel);\n",
              "  cancel.textContent = 'Cancel upload';\n",
              "  const cancelPromise = new Promise((resolve) => {\n",
              "    cancel.onclick = () => {\n",
              "      resolve(null);\n",
              "    };\n",
              "  });\n",
              "\n",
              "  // Wait for the user to pick the files.\n",
              "  const files = yield {\n",
              "    promise: Promise.race([pickedPromise, cancelPromise]),\n",
              "    response: {\n",
              "      action: 'starting',\n",
              "    }\n",
              "  };\n",
              "\n",
              "  cancel.remove();\n",
              "\n",
              "  // Disable the input element since further picks are not allowed.\n",
              "  inputElement.disabled = true;\n",
              "\n",
              "  if (!files) {\n",
              "    return {\n",
              "      response: {\n",
              "        action: 'complete',\n",
              "      }\n",
              "    };\n",
              "  }\n",
              "\n",
              "  for (const file of files) {\n",
              "    const li = document.createElement('li');\n",
              "    li.append(span(file.name, {fontWeight: 'bold'}));\n",
              "    li.append(span(\n",
              "        `(${file.type || 'n/a'}) - ${file.size} bytes, ` +\n",
              "        `last modified: ${\n",
              "            file.lastModifiedDate ? file.lastModifiedDate.toLocaleDateString() :\n",
              "                                    'n/a'} - `));\n",
              "    const percent = span('0% done');\n",
              "    li.appendChild(percent);\n",
              "\n",
              "    outputElement.appendChild(li);\n",
              "\n",
              "    const fileDataPromise = new Promise((resolve) => {\n",
              "      const reader = new FileReader();\n",
              "      reader.onload = (e) => {\n",
              "        resolve(e.target.result);\n",
              "      };\n",
              "      reader.readAsArrayBuffer(file);\n",
              "    });\n",
              "    // Wait for the data to be ready.\n",
              "    let fileData = yield {\n",
              "      promise: fileDataPromise,\n",
              "      response: {\n",
              "        action: 'continue',\n",
              "      }\n",
              "    };\n",
              "\n",
              "    // Use a chunked sending to avoid message size limits. See b/62115660.\n",
              "    let position = 0;\n",
              "    do {\n",
              "      const length = Math.min(fileData.byteLength - position, MAX_PAYLOAD_SIZE);\n",
              "      const chunk = new Uint8Array(fileData, position, length);\n",
              "      position += length;\n",
              "\n",
              "      const base64 = btoa(String.fromCharCode.apply(null, chunk));\n",
              "      yield {\n",
              "        response: {\n",
              "          action: 'append',\n",
              "          file: file.name,\n",
              "          data: base64,\n",
              "        },\n",
              "      };\n",
              "\n",
              "      let percentDone = fileData.byteLength === 0 ?\n",
              "          100 :\n",
              "          Math.round((position / fileData.byteLength) * 100);\n",
              "      percent.textContent = `${percentDone}% done`;\n",
              "\n",
              "    } while (position < fileData.byteLength);\n",
              "  }\n",
              "\n",
              "  // All done.\n",
              "  yield {\n",
              "    response: {\n",
              "      action: 'complete',\n",
              "    }\n",
              "  };\n",
              "}\n",
              "\n",
              "scope.google = scope.google || {};\n",
              "scope.google.colab = scope.google.colab || {};\n",
              "scope.google.colab._files = {\n",
              "  _uploadFiles,\n",
              "  _uploadFilesContinue,\n",
              "};\n",
              "})(self);\n",
              "</script> "
            ]
          },
          "metadata": {}
        },
        {
          "output_type": "stream",
          "name": "stdout",
          "text": [
            "Saving PANDORA_hypothetical_protein_psal_cds_318__YP_008437003__Pandoravirus_salinus__1349410.pdb to PANDORA_hypothetical_protein_psal_cds_318__YP_008437003__Pandoravirus_salinus__1349410.pdb\n",
            "\n",
            " This is a pdb file\n"
          ]
        }
      ],
      "source": [
        "# @title\n",
        "\n",
        "#print(\"Please Upload a single pdb file or a zip file of pdb files\")\n",
        "uploaded_file = files.upload()\n",
        "\n",
        "#check if the file is is a single pdb file or a zip file\n",
        "for file_name, content in uploaded_file.items():\n",
        "  if file_name.endswith('.pdb'):\n",
        "    print(\"\\n This is a pdb file\")\n",
        "    query_file_path = '/content'+'/' +file_name\n",
        "\n",
        "  elif file_name.endswith('.zip'):\n",
        "    print(\"\\n This is a zip file\")\n",
        "\n",
        "    #make query_folder_path\n",
        "    query_folder_path = '/content/query_extracted_folder/'\n",
        "    os.makedirs(query_folder_path, exist_ok=True)\n",
        "\n",
        "    # Extract zip file\n",
        "    with zipfile.ZipFile(io.BytesIO(content), 'r') as zObject:\n",
        "        zObject.extractall(path=query_folder_path)\n",
        "\n",
        "    for item in os.listdir(query_folder_path):\n",
        "    # Construct the full path of the folder containing pdb files\n",
        "      query_file_path = os.path.join(query_folder_path, item)\n",
        "\n",
        "    print(\"\\n Contents in zip file successfully extracted\")\n",
        "  else:\n",
        "    print(\"\\n This is an unknown file. Please upload the correct file format\")\n"
      ]
    },
    {
      "cell_type": "code",
      "execution_count": null,
      "metadata": {
        "cellView": "form",
        "id": "1AEV8_uVQo7b",
        "colab": {
          "base_uri": "https://localhost:8080/"
        },
        "outputId": "90a571d3-dd94-4aab-8c28-f4b69f51d11b"
      },
      "outputs": [
        {
          "output_type": "stream",
          "name": "stdout",
          "text": [
            "\n",
            " Foldseek Run Completed\n"
          ]
        }
      ],
      "source": [
        "# @title **4. Run Foldseek**\n",
        "\n",
        "if file_output == 'tabular':\n",
        "  output_file_path = \"output.m8\"\n",
        "  format_mode = 0\n",
        "else:\n",
        "  output_file_path = \"output.html\"\n",
        "  format_mode = 3\n",
        "\n",
        "old_stdout = sys.stdout\n",
        "sys.stdout = io.StringIO()\n",
        "\n",
        "!/content/foldseek/bin/foldseek easy-search \"{query_file_path}\" \"{target_file_path}\" {output_file_path} tmpFolder -c {coverage} --cov-mode {coverage_mode} -e {e} --format-output \"{format_output}\" --format-mode {format_mode}\n",
        "sys.stdout = old_stdout\n",
        "\n",
        "print(\"\\n Foldseek Run Completed\")"
      ]
    },
    {
      "cell_type": "code",
      "execution_count": null,
      "metadata": {
        "cellView": "form",
        "id": "dQqVVSEcrJLu",
        "colab": {
          "base_uri": "https://localhost:8080/"
        },
        "outputId": "041521f8-3451-42b5-f376-3b1d55b2929d"
      },
      "outputs": [
        {
          "output_type": "stream",
          "name": "stdout",
          "text": [
            "Alignment results will be in HTML format. Please download HTML file below to view the alignment results.\n"
          ]
        }
      ],
      "source": [
        "# @title **5. Display Alignment Results**\n",
        "\n",
        "if file_output == 'HTML':\n",
        "  print(\"Alignment results will be in HTML format. Please download HTML file below to view the alignment results.\")\n",
        "\n",
        "else:\n",
        "\n",
        "\n",
        "  #add column names to output data\n",
        "  output_df = pd.read_csv(output_file_path, delimiter='\\t', names=format_output.split(','))\n",
        "\n",
        "  output_df['target'] = output_df['target'].str[:-4]\n",
        "\n",
        "  #merge output_df with structures_df to obtain the cluster_id and cluster_count\n",
        "  structure_df = structure_df.copy()\n",
        "  structure_df['cluster_ID'] = structure_df['cluster_ID'].astype(str)\n",
        "  structure_df['cluster_count'] = structure_df['cluster_count'].astype(str)\n",
        "\n",
        "  structure_df = structure_df[['cluster_member','cluster_ID', 'cluster_count']]\n",
        "  merged_output_df = pd.merge(output_df, structure_df, left_on='target', right_on='cluster_member', how='left')\n",
        "  #if cluster_member, cluster_iD, cluster_count is nan, fill in the values with unassigned\n",
        "  merged_output_df['cluster_member'] = merged_output_df['cluster_member'].fillna('unassigned')\n",
        "  merged_output_df['cluster_ID'] = merged_output_df['cluster_ID'].fillna('unassigned')\n",
        "  merged_output_df['cluster_count'] = merged_output_df['cluster_count'].fillna('unassigned')\n",
        "\n",
        "  #select relevant values for the final output table\n",
        "  merged_output_df.drop(columns=['cluster_member'], inplace=True)\n",
        "  merged_output_df.insert(2, 'cluster_ID', merged_output_df.pop('cluster_ID'))\n",
        "  merged_output_df.insert(3, 'cluster_count', merged_output_df.pop('cluster_count'))\n",
        "\n",
        "\n",
        "  #Import interactive data table\n",
        "  from google.colab import data_table\n",
        "  data_table.enable_dataframe_formatter()\n",
        "\n",
        "  # Displaying alignment results\n",
        "  cluster_counts_df = merged_output_df.drop_duplicates('target')\n",
        "  cluster_counts_df = cluster_counts_df['cluster_ID'].value_counts().rename_axis('cluster_ID').reset_index(name='Number of proteins found')\n",
        "  cluster_counts_df['Fraction of total hits'] = round((cluster_counts_df['Number of proteins found']/cluster_counts_df['Number of proteins found'].sum()),2)\n",
        "  cluster_counts_df = cluster_counts_df.sort_values(by='Fraction of total hits', ascending= False)\n",
        "  cluster_counts_df = pd.merge(cluster_counts_df, structure_df.drop_duplicates('cluster_ID'), on = 'cluster_ID', how='left')\n",
        "\n",
        "  cluster_counts_df['Fraction of cluster with an alignment'] = round((cluster_counts_df['Number of proteins found']/cluster_counts_df['cluster_count'].astype(float)),2)\n",
        "  cluster_counts_df = cluster_counts_df.copy()\n",
        "  cluster_counts_df = cluster_counts_df[['cluster_ID', 'Number of proteins found', 'Fraction of total hits', 'Fraction of cluster with an alignment']]\n",
        "  cluster_counts_df['Fraction of cluster with an alignment'] = cluster_counts_df['Fraction of cluster with an alignment'].fillna(\"NA\")\n",
        "\n",
        "  print(\"Number of clusters found in alignment results: \", len(cluster_counts_df) )\n",
        "  print(\"\\nDisplaying clusters found in alignment results in table below: \\n\")\n",
        "  display(data_table.DataTable(cluster_counts_df, include_index=False, num_rows_per_page=15))\n",
        "\n",
        "  print(\"\\nDisplaying alignment results in table below: \")\n",
        "  display(data_table.DataTable(merged_output_df, include_index=False, num_rows_per_page=15))"
      ]
    },
    {
      "cell_type": "code",
      "execution_count": null,
      "metadata": {
        "cellView": "form",
        "id": "srxfT_1Gg7mW",
        "colab": {
          "base_uri": "https://localhost:8080/",
          "height": 35
        },
        "outputId": "cd07cc50-4837-4382-8b2e-5d334fe4f22a"
      },
      "outputs": [
        {
          "output_type": "display_data",
          "data": {
            "text/plain": [
              "<IPython.core.display.Javascript object>"
            ],
            "application/javascript": [
              "\n",
              "    async function download(id, filename, size) {\n",
              "      if (!google.colab.kernel.accessAllowed) {\n",
              "        return;\n",
              "      }\n",
              "      const div = document.createElement('div');\n",
              "      const label = document.createElement('label');\n",
              "      label.textContent = `Downloading \"${filename}\": `;\n",
              "      div.appendChild(label);\n",
              "      const progress = document.createElement('progress');\n",
              "      progress.max = size;\n",
              "      div.appendChild(progress);\n",
              "      document.body.appendChild(div);\n",
              "\n",
              "      const buffers = [];\n",
              "      let downloaded = 0;\n",
              "\n",
              "      const channel = await google.colab.kernel.comms.open(id);\n",
              "      // Send a message to notify the kernel that we're ready.\n",
              "      channel.send({})\n",
              "\n",
              "      for await (const message of channel.messages) {\n",
              "        // Send a message to notify the kernel that we're ready.\n",
              "        channel.send({})\n",
              "        if (message.buffers) {\n",
              "          for (const buffer of message.buffers) {\n",
              "            buffers.push(buffer);\n",
              "            downloaded += buffer.byteLength;\n",
              "            progress.value = downloaded;\n",
              "          }\n",
              "        }\n",
              "      }\n",
              "      const blob = new Blob(buffers, {type: 'application/binary'});\n",
              "      const a = document.createElement('a');\n",
              "      a.href = window.URL.createObjectURL(blob);\n",
              "      a.download = filename;\n",
              "      div.appendChild(a);\n",
              "      a.click();\n",
              "      div.remove();\n",
              "    }\n",
              "  "
            ]
          },
          "metadata": {}
        },
        {
          "output_type": "display_data",
          "data": {
            "text/plain": [
              "<IPython.core.display.Javascript object>"
            ],
            "application/javascript": [
              "download(\"download_09257bf8-4d52-4916-89db-d89d561dd564\", \"output.html\", 5316083)"
            ]
          },
          "metadata": {}
        },
        {
          "output_type": "stream",
          "name": "stdout",
          "text": [
            "HTML file Downloaded\n"
          ]
        }
      ],
      "source": [
        "# @title **6. Download Alignment Results**\n",
        "\n",
        "if file_output == 'tabular':\n",
        "  merged_output_df.to_csv('final_output.csv', index=False)\n",
        "  files.download('final_output.csv')\n",
        "  print(\"Tabular file Downloaded\")\n",
        "\n",
        "else:\n",
        "  files.download('output.html')\n",
        "  print(\"HTML file Downloaded\")\n"
      ]
    },
    {
      "cell_type": "code",
      "execution_count": null,
      "metadata": {
        "cellView": "form",
        "id": "Aq54pqbTg7jV",
        "colab": {
          "base_uri": "https://localhost:8080/"
        },
        "outputId": "8091a80d-6470-401e-d623-47ef06033810"
      },
      "outputs": [
        {
          "output_type": "stream",
          "name": "stdout",
          "text": [
            "Find cluster members of interest by exploring the tabular output.\n"
          ]
        }
      ],
      "source": [
        "# @title **7. Explore Cluster Members**\n",
        "\n",
        "if file_output == 'tabular':\n",
        "  clusterID = '' #@param {type:\"string\"}\n",
        "  clusterID_results = merged_output_df[merged_output_df['cluster_ID']==clusterID]\n",
        "  display(data_table.DataTable(clusterID_results, include_index=True, num_rows_per_page=15))\n",
        "else:\n",
        "  print(\"Find cluster members of interest by exploring the tabular output.\")"
      ]
    }
  ],
  "metadata": {
    "colab": {
      "provenance": [],
      "include_colab_link": true
    },
    "kernelspec": {
      "display_name": "Python 3",
      "name": "python3"
    },
    "language_info": {
      "name": "python"
    }
  },
  "nbformat": 4,
  "nbformat_minor": 0
}