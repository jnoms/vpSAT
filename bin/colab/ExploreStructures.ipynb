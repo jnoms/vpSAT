{
  "cells": [
    {
      "cell_type": "markdown",
      "metadata": {
        "id": "view-in-github",
        "colab_type": "text"
      },
      "source": [
        "<a href=\"https://colab.research.google.com/github/jnoms/vpSAT/blob/main/bin/colab/ExploreStructures.ipynb\" target=\"_parent\"><img src=\"https://colab.research.google.com/assets/colab-badge.svg\" alt=\"Open In Colab\"/></a>"
      ]
    },
    {
      "cell_type": "markdown",
      "metadata": {
        "id": "ZvKQkhDh-fke"
      },
      "source": [
        "# **Foldseek Viral Structure Visualization**\n",
        "The aim of this notebook is to enable users to explore the viral structures established by Nomburg et al.,\n",
        "\n",
        " \"*Birth of new protein folds and functions in the virome*\"."
      ]
    },
    {
      "cell_type": "markdown",
      "metadata": {
        "id": "DxtqDQftEot8"
      },
      "source": [
        "# **Quick Start**\n",
        "\n",
        "1. Execute the section 1 block to set up the notebook environment.\n",
        "2. If you have a NCBI protein accession of interest, you can skip to section 3. Type in the protein accession, and execute the block. This will display the structure.\n",
        "3. If you do not know your protein accession, you may explore available proteins in section 2. Here, enter either:\n",
        " * A taxonID of interest (this should be a taxonID for a specific viral species - these can be found by searching the [NCBI Taxonomy Website](https://www.ncbi.nlm.nih.gov/taxonomy))\n",
        " * The name of a viral family\n",
        "4. Section 2, if used, will display a table showing all structures that are available and encoded by a virus with a given taxonID or within the specified viral family. This table has all protein accessions, which you can use to view the structures in section 3.\n",
        "5. To download the structure file, execute the section 4 block.\n"
      ]
    },
    {
      "cell_type": "markdown",
      "metadata": {
        "id": "0oAAmxKVcSZG"
      },
      "source": [
        "##**1. Setup**\n",
        "\n",
        "This step downloads required packages and supplementary file necessary to visualize viral protein structures."
      ]
    },
    {
      "cell_type": "code",
      "execution_count": null,
      "metadata": {
        "id": "OFQ-WsEEvHTr",
        "cellView": "form"
      },
      "outputs": [],
      "source": [
        "# @title\n",
        "\n",
        "#import libraries\n",
        "import os\n",
        "import io\n",
        "import pandas as pd\n",
        "from google.colab import data_table\n",
        "data_table.enable_dataframe_formatter()\n",
        "import sys\n",
        "from google.colab import files\n",
        "import numpy as np\n",
        "\n",
        "#if py3Dmol is not already installed, install it\n",
        "try:\n",
        "    import py3Dmol\n",
        "    print(\"py3Dmol is already installed\")\n",
        "except ImportError:\n",
        "    print(\"py3Dmol is installing\")\n",
        "    old_stdout = sys.stdout\n",
        "    sys.stdout = io.StringIO()\n",
        "    !pip install py3Dmol\n",
        "    sys.stdout = old_stdout\n",
        "    import py3Dmol\n",
        "\n",
        "#biopython is not already installed, install i\n",
        "try:\n",
        "  from Bio.PDB.MMCIFParser import MMCIFParser\n",
        "  from Bio.PDB.PDBIO import PDBIO\n",
        "  print(\"biopython is already installed\")\n",
        "\n",
        "except:\n",
        "  print(\"biopython is installing\")\n",
        "  old_stdout = sys.stdout\n",
        "  sys.stdout = io.StringIO()\n",
        "  !pip install biopython\n",
        "  sys.stdout = old_stdout\n",
        "  from Bio.PDB.MMCIFParser import MMCIFParser\n",
        "  from Bio.PDB.PDBIO import PDBIO\n",
        "\n",
        "\n",
        "# Check if the structure file is in the directory. If not, download it\n",
        "file_path = 'media-1.xlsx?download=true.1'\n",
        "\n",
        "if os.path.isfile(file_path):\n",
        "    print('Structures file is already downloaded')\n",
        "else:\n",
        "    old_stdout = sys.stdout\n",
        "    sys.stdout = io.StringIO()\n",
        "    !wget https://www.biorxiv.org/content/biorxiv/early/2024/01/23/2024.01.22.576744/DC1/embed/media-1.xlsx?download=true\n",
        "    sys.stdout = old_stdout\n",
        "    print(\"Structures file downloaded successfully\")\n",
        "\n",
        "#read in the structures file\n",
        "structure_df = pd.read_excel('media-1.xlsx?download=true')\n",
        "\n",
        "#add model archive index\n",
        "structure_df['model_archive_index'] = range(1, len(structure_df) + 1)\n",
        "structure_df['model_archive_index'] = structure_df['model_archive_index'].map(lambda x: f\"{x:05d}\")\n",
        "\n",
        "#create a new column for the protein accession\n",
        "structure_df['protein_accession'] = structure_df['cluster_member'].str.split('__').str[1]\n",
        "\n",
        "#parse out the protein name\n",
        "structure_df['protein_name'] = structure_df['cluster_member'].str.split('__').str[0]\n",
        "\n",
        "#if family is nan, replace with Undefined\n",
        "structure_df['family'] = structure_df['family'].fillna(\"undefined_family\")\n",
        "\n",
        "#convert the entire pandas df to string type\n",
        "structure_df = structure_df.astype(str)\n",
        "\n",
        "#re-order the structure df\n",
        "structure_df = structure_df.copy()\n",
        "structure_df = structure_df[['model_archive_index','protein_accession', 'protein_name', 'taxonID', 'species', 'superkingdom',\t'phylum',\t'class',\t'order',\t'family',\t'genus','cluster_ID','cluster_count','cluster_rep',\t'subcluster_rep',\t'cluster_member']]\n",
        "\n",
        "print(\"Setup completed\")\n"
      ]
    },
    {
      "cell_type": "markdown",
      "metadata": {
        "id": "w6apNnnWjQhB"
      },
      "source": [
        "## **2. Browse Available Structures**\n",
        "Users can enter taxonID or viral family name to identify the protein accession number of interest. For viral family names that are undefined (such as Pandoraviruses, etc), input \"undefined_family\".\n",
        "\n",
        "Protein accessions in the resultant table can be used in section 3 to view a specified structure.\n",
        "\n"
      ]
    },
    {
      "cell_type": "code",
      "execution_count": null,
      "metadata": {
        "id": "noQQ08GIPrI2",
        "cellView": "form"
      },
      "outputs": [],
      "source": [
        "# Prompt user to choose between taxonID or virus family using @param\n",
        "Search_by = 'virus family name'  # @param [\"taxonID\", \"virus family name\"]\n",
        "\n",
        "value = ''  # @param {type:\"string\"}\n",
        "\n",
        "if Search_by == 'taxonID':\n",
        "    # User enters taxonID\n",
        "    taxonID_filtered_df = structure_df[structure_df['taxonID'] == value]\n",
        "\n",
        "    if 'model_archive_index' in taxonID_filtered_df:\n",
        "      taxonID_filtered_df = taxonID_filtered_df.drop('model_archive_index', axis=1)\n",
        "\n",
        "    print(f\"Display proteins filtered by taxon id({value})\")\n",
        "    display(data_table.DataTable(taxonID_filtered_df, include_index=False, num_rows_per_page=15))\n",
        "\n",
        "elif Search_by == 'virus family name':\n",
        "    # User enters virus family name\n",
        "    virusFamilyName = value.lower().capitalize()\n",
        "    print(f\"Display proteins filtered by virusFamilyName({virusFamilyName})\")\n",
        "    family_filtered_df = structure_df[structure_df['family'] == virusFamilyName]\n",
        "\n",
        "\n",
        "    if 'model_archive_index' in family_filtered_df:\n",
        "      family_filtered_df = family_filtered_df.drop('model_archive_index', axis=1)\n",
        "\n",
        "    display(data_table.DataTable(family_filtered_df, include_index=False, num_rows_per_page=15))\n"
      ]
    },
    {
      "cell_type": "markdown",
      "metadata": {
        "id": "3PvOaBmipf_X"
      },
      "source": [
        "## **3. View Protein Structure**\n",
        "\n",
        "Input desired protein accession number below and choose the coloration of the proteins based on structure confidence (pLDDT) or amino acid number (rainbow)."
      ]
    },
    {
      "cell_type": "code",
      "execution_count": null,
      "metadata": {
        "id": "BW0yti68ptep",
        "cellView": "form"
      },
      "outputs": [],
      "source": [
        "proteinAccession = 'YP_010087542' # @param {type:\"string\"}\n",
        "proteinAccession = proteinAccession.split('.')[0]\n",
        "\n",
        "accession_filtered_df = structure_df[structure_df['protein_accession'] == proteinAccession]\n",
        "accession_index = structure_df[structure_df['protein_accession'] == proteinAccession]['model_archive_index'].values[0]\n",
        "\n",
        "\n",
        "#informative message that protein message is not in table\n",
        "if accession_filtered_df.empty:\n",
        "    print(\"Protein accession not found. Please try another protein accession.\")\n",
        "else:\n",
        "\n",
        "  #get cif file from Model Archive\n",
        "\n",
        "  #make a directory to store results\n",
        "  results_path = '/content/results'\n",
        "  if not os.path.exists(results_path):\n",
        "    os.makedirs(results_path)\n",
        "\n",
        "  #use indexing to get the structure file from Model Archive\n",
        "  #Model Archive data is 1 index and Python is 0 index\n",
        "  file_directory = f\"https://www.modelarchive.org/api/projects/ma-jd-viral-{accession_index}?type=basic__model_file_name\"\n",
        "  file_name_cif = f\"ma-jd-viral-{accession_index}?type=basic__model_file_name\"\n",
        "\n",
        "  #download cif file into google collab\n",
        "  old_stdout = sys.stdout\n",
        "  sys.stdout = io.StringIO()\n",
        "  !wget -P {results_path} {file_directory}\n",
        "  sys.stdout = old_stdout\n",
        "\n",
        "  #change the cif file into a pdb file\n",
        "  def convert_cif_to_pdb(cif_file, pdb_file):\n",
        "    parser = MMCIFParser()\n",
        "    structure = parser.get_structure('structure', cif_file)\n",
        "    io = PDBIO()\n",
        "    io.set_structure(structure)\n",
        "    io.save(pdb_file)\n",
        "\n",
        "  cluster_member = accession_filtered_df['cluster_member'].values[0]\n",
        "  file_name_pdb = f\"{cluster_member}.pdb\"\n",
        "\n",
        "  convert_cif_to_pdb(os.path.join(results_path, file_name_cif), os.path.join(results_path, file_name_pdb))\n",
        "\n",
        "  color = \"pLDDT\" #@param [\"pLDDT\", \"rainbow\"]\n",
        "\n",
        "  # Load PDB file\n",
        "  pdb_file = open(os.path.join(results_path, file_name_pdb)).read()\n",
        "\n",
        "  # Create py3Dmol view\n",
        "  view = py3Dmol.view(width=800, height=600)\n",
        "  view.addModel(pdb_file, \"pdb\")\n",
        "\n",
        "  # Set color based on normalized B-factor values\n",
        "  if color == \"pLDDT\":\n",
        "      view.setStyle({'cartoon': {'colorscheme': {'prop':'b','gradient': 'roygb','min':50,'max':90}}})\n",
        "      from IPython.display import HTML\n",
        "      color_legend_html = \"\"\"\n",
        "      <div style=\"position:relative; top:10px; background-color:white; padding:10px;\">\n",
        "          <h3>pLDDT Legend</h3>\n",
        "          <div style=\"width: 400px;\">\n",
        "                <span style=\"margin-right: 50px;\">Very Low</span>\n",
        "                <span style=\"margin-right: 90px;\">Low</span>\n",
        "                <span style=\"margin-right: 75px;\">High</span>\n",
        "                <span>Very High</span>\n",
        "          </div>\n",
        "          <div style=\"display: flex; flex-direction: column; align-items: flex-start;\">\n",
        "              <div style=\"background: linear-gradient(to right, red, yellow, cyan, blue); height:20px; width: 400px;\"></div>\n",
        "              <div style=\"width: 400px;\">\n",
        "              </div>\n",
        "          </div>\n",
        "      </div>\n",
        "      \"\"\"\n",
        "      display(HTML(color_legend_html))\n",
        "\n",
        "      view.zoomTo()\n",
        "      view.show()\n",
        "\n",
        "  elif color == \"rainbow\":\n",
        "      view.setStyle({'cartoon': {'color':'spectrum'}})\n",
        "      #view.setStyle({'cartoon': {'colorscheme': {'prop':'b','gradient': 'roygb','min':50,'max':90}}})\n",
        "      view.zoomTo()\n",
        "      view.show()\n",
        "\n"
      ]
    },
    {
      "cell_type": "markdown",
      "metadata": {
        "id": "DuoPRwwCfdEi"
      },
      "source": [
        "## **4. Download Structure**\n",
        "\n",
        "Run this cell if you want to download the structure file of the protein displayed above."
      ]
    },
    {
      "cell_type": "code",
      "execution_count": null,
      "metadata": {
        "id": "MasPUBO7btUS",
        "cellView": "form"
      },
      "outputs": [],
      "source": [
        "# @title\n",
        "files.download(f\"{results_path}/{file_name_pdb}\")\n",
        "print(\"Structure file downloaded\")"
      ]
    }
  ],
  "metadata": {
    "colab": {
      "provenance": [],
      "include_colab_link": true
    },
    "kernelspec": {
      "display_name": "Python 3",
      "name": "python3"
    },
    "language_info": {
      "name": "python"
    }
  },
  "nbformat": 4,
  "nbformat_minor": 0
}