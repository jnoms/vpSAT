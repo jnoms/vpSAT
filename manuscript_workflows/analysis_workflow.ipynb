{
 "cells": [
  {
   "cell_type": "markdown",
   "metadata": {},
   "source": [
    "STEPS:\n",
    "1. Concatenate all fastas\n",
    "2. mmseqs clustering - 20% ID, 70% cov\n",
    "3. foldseek clustering - require 70% CoV, using mode 0. Filter at TMscore 0.4. \n",
    "4. sat.py aln_expand_clusters to merge struc and seq cluster files\n",
    "5. sat.py aln_add_taxonomy to add taxonomy information to the cluster file -> do manual bash manipulations to get the colnames all correct afterwards\n",
    "6. sat.py aln_taxa_counts to get the counts file\n",
    "7. sat.py code to generate connection map between families based on the cluster file that has taxonomy information"
   ]
  },
  {
   "cell_type": "markdown",
   "metadata": {},
   "source": [
    "# Concatenate all fastas"
   ]
  },
  {
   "cell_type": "code",
   "execution_count": null,
   "metadata": {
    "vscode": {
     "languageId": "shellscript"
    }
   },
   "outputs": [],
   "source": [
    "TOTAL=$(ls ../structures_sequences | wc -l)\n",
    "COUNT=0\n",
    "\n",
    "for FILE in ../structures_sequences/*fasta ; do\n",
    "\n",
    "if [[ $(basename $FILE) != PART* ]] ; then\n",
    "    cat $FILE >> all_full.fasta\n",
    "fi\n",
    "\n",
    "COUNT=$(($COUNT+1))\n",
    "echo \"$COUNT / $TOTAL\"\n",
    "\n",
    "done"
   ]
  },
  {
   "cell_type": "markdown",
   "metadata": {},
   "source": [
    "# MMseqs clustering"
   ]
  },
  {
   "cell_type": "code",
   "execution_count": null,
   "metadata": {
    "vscode": {
     "languageId": "shellscript"
    }
   },
   "outputs": [],
   "source": [
    "mkdir -p seq_cluster\n",
    "mmseqs easy-cluster \\\n",
    "all_full.fasta \\\n",
    "seq_cluster/seq_clusters \\\n",
    "seq_cluster/tmp \\\n",
    "--max-seqs 50000 \\\n",
    "-c 0.7 \\\n",
    "--cov-mode 0 \\\n",
    "--min-seq-id 0.2 \\\n",
    "--cluster-mode 0 \\\n",
    "--threads 5"
   ]
  },
  {
   "cell_type": "markdown",
   "metadata": {},
   "source": [
    "# Foldseek clustering"
   ]
  },
  {
   "cell_type": "code",
   "execution_count": null,
   "metadata": {
    "vscode": {
     "languageId": "shellscript"
    }
   },
   "outputs": [],
   "source": [
    "# Collect representative structures\n",
    "mkdir -p seq_cluster/rep_structures\n",
    "COUNT=0\n",
    "cut -f1 seq_cluster/seq_clusters_cluster.tsv  | sort -u | while read LINE ; do \n",
    "    BASE=$(basename $LINE)\n",
    "\n",
    "    if [[ ! -f seq_cluster/rep_structures/${BASE}.pdb ]] ; then \n",
    "        cp /wynton/group/gladstone/users/jnomburg/projects/viral_structure/structure_symlinks/${BASE}.pdb seq_cluster/rep_structures\n",
    "    fi\n",
    "\n",
    "    COUNT=$(($COUNT+1))\n",
    "    echo $COUNT\n",
    "\n",
    "done\n",
    "\n",
    "# Run foldseek\n",
    "$CODE/vpSAT/bin/foldseek.sh \\\n",
    "-i seq_cluster/rep_structures \\\n",
    "-o foldseek/foldseek_clusters.m8 \\\n",
    "-C foldseek/ignoreme.tsv \\\n",
    "-t 5 \\\n",
    "-v 0.7 \\\n",
    "-c\n",
    "\n",
    "# Filter on TMscore\n",
    "sat.py aln_filter \\\n",
    "-a foldseek/foldseek_clusters.m8 \\\n",
    "-o foldseek/foldseek_clusters_mode0cov0.7_TMscore0.4.filt.m8 \\\n",
    "-f \"query,target,fident,alnlen,qlen,tlen,mismatch,gapopen,qstart,qend,tstart,tend,evalue,bits,alntmscore\" \\\n",
    "-m 0.4 \\\n",
    "-M 1 \\\n",
    "-x alntmscore\n",
    "\n",
    "# Generate a cluster file\n",
    "ls seq_cluster/rep_structures > foldseek/all_inputs.txt\n",
    "\n",
    "sat.py aln_cluster \\\n",
    "-a foldseek/foldseek_clusters_mode0cov0.7_TMscore0.4.filt.m8 \\\n",
    "-o foldseek/foldseek_clusters.tsv \\\n",
    "-A foldseek/all_inputs.txt"
   ]
  },
  {
   "cell_type": "markdown",
   "metadata": {},
   "source": [
    "# Merge structure and sequence cluster files"
   ]
  },
  {
   "cell_type": "code",
   "execution_count": null,
   "metadata": {
    "vscode": {
     "languageId": "shellscript"
    }
   },
   "outputs": [],
   "source": [
    "mkdir -p merged_clusters\n",
    "\n",
    "sat.py aln_expand_clusters \\\n",
    "-c foldseek/foldseek_clusters.tsv \\\n",
    "-s seq_cluster/seq_clusters_cluster.tsv \\\n",
    "-o merged_clusters/merged_clusters.tsv \\\n",
    "-F \"cluster_rep,cluster_member\" \\\n",
    "-f \"cluster_rep,cluster_member\"\n",
    "\n",
    "# Generate counts file. This wasn't really used.\n",
    "sat.py aln_taxa_counts \\\n",
    "-c merged_clusters/merged_clusters.tsv \\\n",
    "-o merged_clusters/merged_clusters.counts.tsv \\\n",
    "-F \"cluster_ID,cluster_rep,subcluster_rep,cluster_member,cluster_count\"\n",
    "\n",
    "# Add taxonomy\n",
    "# This is adapting aln_add_taxonomy, which is deisnged for alignments rather than \n",
    "# cluster files.\n",
    "sat.py aln_add_taxonomy \\\n",
    "-a merged_clusters/merged_clusters.tsv \\\n",
    "-o merged_clusters/merged_clusters.tax.tsv.TEMP \\\n",
    "-f \"cluster_ID,cluster_rep,query,target,cluster_count\"\n",
    "\n",
    "# Reformat the taxonomy columns to general the file clusters file\n",
    "awk 'BEGIN {FS=OFS=\"\\t\"}\n",
    "NR==1 {\n",
    "    for (i=1; i<=NF; i++) {\n",
    "        if ($i == \"query\") { \n",
    "            $i = \"subcluster_rep\"; \n",
    "            col[i]=1; \n",
    "        } else if ($i == \"target\") { \n",
    "            $i = \"cluster_member\"; \n",
    "            col[i]=1; \n",
    "        } else if ($i ~ /^target_/) { \n",
    "            $i = substr($i, 8); \n",
    "            col[i]=1; \n",
    "        } else if ($i ~ /^query_/) { \n",
    "            col[i]=0; \n",
    "        } else { \n",
    "            col[i]=1; \n",
    "        }\n",
    "    }\n",
    "}\n",
    "{\n",
    "    for (i=1; i<=NF; i++) {\n",
    "        if (col[i]) printf \"%s%s\", $i, (i<NF ? OFS : \"\\n\")\n",
    "    }\n",
    "}' merged_clusters/merged_clusters.tax.tsv.TEMP >  merged_clusters/merged_clusters.tax.tsv"
   ]
  },
  {
   "cell_type": "markdown",
   "metadata": {},
   "source": [
    "# Create connection map"
   ]
  },
  {
   "cell_type": "code",
   "execution_count": null,
   "metadata": {
    "vscode": {
     "languageId": "shellscript"
    }
   },
   "outputs": [],
   "source": [
    "# This is just for making the family-family network\n",
    "sat.py aln_connection_map \\\n",
    "-c merged_clusters/merged_clusters.tax.tsv \\\n",
    "-o merged_clusters/connection_map.tsv"
   ]
  },
  {
   "cell_type": "markdown",
   "metadata": {},
   "source": [
    "# Run DALI to compare reps from all 5.7K-ish protein clusters that have more than 1 member"
   ]
  },
  {
   "cell_type": "code",
   "execution_count": null,
   "metadata": {
    "vscode": {
     "languageId": "shellscript"
    }
   },
   "outputs": [],
   "source": [
    "# First collect the structures\n",
    "mkdir -p dali_euk_vs_euk/strucs\n",
    "COUNT=0\n",
    "awk '$5 > 1'  merged_clusters/merged_clusters.tsv | cut -f2 | sort -u | while read LINE ; do\n",
    "    cp seq_cluster/rep_structures/${LINE}.pdb dali_euk_vs_euk/strucs\n",
    "    COUNT=$(($COUNT+1))\n",
    "    echo \"$COUNT\"\n",
    "done\n",
    "\n",
    "# Import to DALI\n",
    "$CODE/vpSAT/bin/dali_format_inputs.sh \\\n",
    "-d dali_euk_vs_euk/strucs \\\n",
    "-o dali_euk_vs_euk/euk_dali_db \\\n",
    "-s dali_euk_vs_euk/euk_dali_key.tsv \\\n",
    "-b ~/phage_dali/phage_structure_key.txt \\\n",
    "-L dali_euk_vs_euk/euk_dali_symlinks\n",
    "\n",
    "# Prepare an SGE array\n",
    "$CODE/vpSAT/bin/prepare_job_array_sge.sh \\\n",
    "-d dali_euk_vs_euk/euk_dali_db \\\n",
    "-J dali_euk_vs_euk/dali_lists \\\n",
    "-N 1"
   ]
  },
  {
   "cell_type": "code",
   "execution_count": null,
   "metadata": {
    "vscode": {
     "languageId": "shellscript"
    }
   },
   "outputs": [],
   "source": [
    "# Running the array in an SGE submission\n",
    "LIST=$(sed \"${SGE_TASK_ID}q;d\" dali_euk_vs_euk/dali_lists_lists/sublist_list.txt)\n",
    "\n",
    "TEMP=${SGE_TASK_ID}__$RANDOM\n",
    "\n",
    "echo \"Copying over queries...\"\n",
    "cat $LIST | while read LINE ; do\n",
    "    FILE=dali_euk_vs_euk/euk_dali_db/$LINE\n",
    "    mkdir -p $TEMP\n",
    "    mkdir $TEMP/query\n",
    "    cp $FILE $TEMP/query\n",
    "done\n",
    "\n",
    "cd $TEMP\n",
    "\n",
    "# Make a copy of the full db here \n",
    "echo \"Copying over the target directory\"\n",
    "cp -r path/to/db target\n",
    "\n",
    "# Copy the query(s) to the target db so I can get qlen\n",
    "# NOTE - this isn't necessary for this particular search, bc it's already all-by-all\n",
    "echo \"Copying the query to the target dir too\"\n",
    "cp query/* target\n",
    "\n",
    "echo \"running the search\"\n",
    "$CODE/vpSAT/bin/dali.sh \\\n",
    "-q query \\\n",
    "-t target \\\n",
    "-o path_to/euk_dali_result \\\n",
    "-n 5\n",
    "\n",
    "cd ..\n",
    "\n",
    "rm -r $TEMP"
   ]
  },
  {
   "cell_type": "code",
   "execution_count": null,
   "metadata": {
    "vscode": {
     "languageId": "shellscript"
    }
   },
   "outputs": [],
   "source": [
    "# Parsing the DALI results\n",
    "IN_DIR=path_to/euk_dali_result\n",
    "OUT_DIR=path_to/euk_dali_parsed\n",
    "\n",
    "for FILE in $IN_DIR/* ; do\n",
    "\n",
    "sat.py aln_parse_dali \\\n",
    "-a $FILE \\\n",
    "-o ${OUT_DIR}/$(basename ${FILE%.txt}).m8 \\\n",
    "-s dali_euk_vs_euk/euk_dali_key.tsv\n",
    "\n",
    "done"
   ]
  },
  {
   "cell_type": "code",
   "execution_count": null,
   "metadata": {
    "vscode": {
     "languageId": "shellscript"
    }
   },
   "outputs": [],
   "source": [
    "# Filter: Remove self alignments, filter for Z >= alnlen/10 -4, alnlen > 120\n",
    "awk -F '\\t' 'NR==1 || ($11 >= ($5/10) - 4)'  dali_euk_vs_euk.m8 | awk '$1 != $2' | awk '$5 >= 120' > dali_euk_vs_euk.filt.m8"
   ]
  },
  {
   "cell_type": "markdown",
   "metadata": {},
   "source": [
    "# Running InterProScan on all sequences"
   ]
  },
  {
   "cell_type": "code",
   "execution_count": null,
   "metadata": {
    "vscode": {
     "languageId": "shellscript"
    }
   },
   "outputs": [],
   "source": [
    "for FILE in pasth/to/structures_sequences/*fasta ; do\n",
    "\n",
    "    cat $FILE >> all.fasta\n",
    "\n",
    "done\n",
    "\n",
    "FASTA=all.fasta\n",
    "\n",
    "interproscan.sh \\\n",
    "-i $FASTA \\\n",
    "-f tsv \\\n",
    "-appl TIGRFAM,Pfam,CDD \\\n",
    "-o interproscan_PFAM_TIGRFAM_CDD.tsv"
   ]
  }
 ],
 "metadata": {
  "language_info": {
   "name": "python"
  }
 },
 "nbformat": 4,
 "nbformat_minor": 2
}
